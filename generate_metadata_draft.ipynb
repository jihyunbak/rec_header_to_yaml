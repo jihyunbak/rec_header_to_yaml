{
 "cells": [
  {
   "cell_type": "markdown",
   "metadata": {},
   "source": [
    "# generate metadata draft using NWBMetadataHelper"
   ]
  },
  {
   "cell_type": "code",
   "execution_count": 1,
   "metadata": {},
   "outputs": [],
   "source": [
    "%load_ext autoreload\n",
    "%autoreload 2"
   ]
  },
  {
   "cell_type": "code",
   "execution_count": 2,
   "metadata": {},
   "outputs": [],
   "source": [
    "from rec_header_to_yaml.metadata import NWBMetadataHelper"
   ]
  },
  {
   "cell_type": "markdown",
   "metadata": {},
   "source": [
    "## test with beans"
   ]
  },
  {
   "cell_type": "markdown",
   "metadata": {},
   "source": [
    "specify dataset and provide basic info:"
   ]
  },
  {
   "cell_type": "code",
   "execution_count": 3,
   "metadata": {},
   "outputs": [],
   "source": [
    "data_path = '/stelmo/jhbak/'\n",
    "animal_name = 'beans'\n",
    "date = '20190718'\n",
    "reconfig = data_path + 'beans/Probe_128ch_allnT_DIOs_PTP_reconfig_export_shanks.xml'\n",
    "\n",
    "expr_info = dict(\n",
    "    experimenter_name = 'Alison Comrie',\n",
    "    experiment_description = 'Reinforcement learning'\n",
    ")"
   ]
  },
  {
   "cell_type": "markdown",
   "metadata": {},
   "source": [
    "provide the map between DIO ports and task events:"
   ]
  },
  {
   "cell_type": "code",
   "execution_count": 4,
   "metadata": {},
   "outputs": [],
   "source": [
    "# experimenter input (tree_dio_id.py)\n",
    "\n",
    "# All inputs we care about, with names\n",
    "_ecu_in = {1:  'Poke1',\n",
    "           2:  'Poke2',\n",
    "           3:  'Poke3',\n",
    "           4:  'Poke4',\n",
    "           5:  'Poke5',\n",
    "           6:  'Poke6',\n",
    "           13:  'Camera_Ticks'\n",
    "           }\n",
    "\n",
    "# All outputs we care about, with names\n",
    "_ecu_out = {1:  'Light1',\n",
    "            2:  'Light2',\n",
    "            3:  'Light3',\n",
    "            4:  'Light4',\n",
    "            5:  'Light5',\n",
    "            6:  'Light6',\n",
    "            7:  'Pump1',\n",
    "            8:  'Pump2',\n",
    "            9:  'Pump3',\n",
    "            10: 'Pump4',\n",
    "            11: 'Pump5',\n",
    "            12: 'Pump6'\n",
    "            }\n",
    "\n",
    "dio_id = dict(Din=_ecu_in, Dout=_ecu_out, index_offset=1)"
   ]
  },
  {
   "cell_type": "markdown",
   "metadata": {},
   "source": [
    "also provide the types of electrodes used:"
   ]
  },
  {
   "cell_type": "code",
   "execution_count": 5,
   "metadata": {},
   "outputs": [],
   "source": [
    "probes_used = [\n",
    "    {'name': 'Probe', \n",
    "     'device_type': '128c-4s8mm6cm-20um-40um-sl',\n",
    "     'location': 'mPFC'}\n",
    "]"
   ]
  },
  {
   "cell_type": "markdown",
   "metadata": {},
   "source": [
    "create a MetadataHelper object, read from `rec_header` files and generate metadata draft:"
   ]
  },
  {
   "cell_type": "code",
   "execution_count": 6,
   "metadata": {},
   "outputs": [],
   "source": [
    "helper = NWBMetadataHelper(data_path=data_path,\n",
    "                           animal_name=animal_name,\n",
    "                           date=date,\n",
    "                           dio_id=dio_id,\n",
    "                           probes_used=probes_used,\n",
    "                           reconfig=reconfig,\n",
    "                           **expr_info\n",
    "                          )"
   ]
  },
  {
   "cell_type": "code",
   "execution_count": 7,
   "metadata": {},
   "outputs": [
    {
     "name": "stdout",
     "output_type": "stream",
     "text": [
      "Saved to file:\n",
      "yaml/beans_20190718_metadata_draft.yml\n"
     ]
    }
   ],
   "source": [
    "helper.write_metadata_draft()"
   ]
  }
 ],
 "metadata": {
  "kernelspec": {
   "display_name": "Python 3",
   "language": "python",
   "name": "python3"
  },
  "language_info": {
   "codemirror_mode": {
    "name": "ipython",
    "version": 3
   },
   "file_extension": ".py",
   "mimetype": "text/x-python",
   "name": "python",
   "nbconvert_exporter": "python",
   "pygments_lexer": "ipython3",
   "version": "3.6.11"
  }
 },
 "nbformat": 4,
 "nbformat_minor": 4
}
