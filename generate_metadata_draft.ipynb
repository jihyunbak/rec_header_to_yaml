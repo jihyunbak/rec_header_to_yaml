{
 "cells": [
  {
   "cell_type": "markdown",
   "metadata": {},
   "source": [
    "# generate metadata draft using NWBMetadataHelper"
   ]
  },
  {
   "cell_type": "code",
   "execution_count": 1,
   "metadata": {},
   "outputs": [],
   "source": [
    "%load_ext autoreload\n",
    "%autoreload 2"
   ]
  },
  {
   "cell_type": "code",
   "execution_count": 2,
   "metadata": {},
   "outputs": [],
   "source": [
    "from rec_header_to_yaml.metadata import NWBMetadataHelper"
   ]
  },
  {
   "cell_type": "markdown",
   "metadata": {},
   "source": [
    "## test with beans"
   ]
  },
  {
   "cell_type": "markdown",
   "metadata": {},
   "source": [
    "specify dataset and provide basic info:"
   ]
  },
  {
   "cell_type": "code",
   "execution_count": 3,
   "metadata": {},
   "outputs": [],
   "source": [
    "data_path = '/stelmo/jhbak/'\n",
    "animal_name = 'beans'\n",
    "date = '20190718'\n",
    "reconfig = data_path + 'beans/Probe_128ch_allnT_DIOs_PTP_reconfig_export_shanks.xml'\n",
    "\n",
    "expr_info = dict(\n",
    "    experimenter_name = 'Alison Comrie',\n",
    "    experiment_description = 'Reinforcement learning'\n",
    ")"
   ]
  },
  {
   "cell_type": "markdown",
   "metadata": {},
   "source": [
    "create a MetadataHelper object, read from `rec_header` files and generate metadata draft:"
   ]
  },
  {
   "cell_type": "code",
   "execution_count": 4,
   "metadata": {},
   "outputs": [],
   "source": [
    "helper = NWBMetadataHelper(data_path=data_path,\n",
    "                           animal_name=animal_name,\n",
    "                           date=date,\n",
    "                           reconfig=reconfig,\n",
    "                           **expr_info\n",
    "                          )"
   ]
  },
  {
   "cell_type": "code",
   "execution_count": 5,
   "metadata": {},
   "outputs": [
    {
     "name": "stdout",
     "output_type": "stream",
     "text": [
      "Saved to file:\n",
      "yaml/beans_20190718_metadata_draft.yml\n"
     ]
    }
   ],
   "source": [
    "helper.write_metadata_draft()"
   ]
  },
  {
   "cell_type": "markdown",
   "metadata": {},
   "source": [
    "## now try kf2"
   ]
  },
  {
   "cell_type": "markdown",
   "metadata": {},
   "source": [
    "note: \"nickname\" is used to resolve dir name / filename mismatch.\n",
    "\n",
    "- `animal_name` should be the name of the data directory;\n",
    "- `animal_nickname` is the name used in the filename formats.\n",
    "\n",
    "when the two are identical, no need to specify `animal_nickname`."
   ]
  },
  {
   "cell_type": "code",
   "execution_count": 6,
   "metadata": {},
   "outputs": [],
   "source": [
    "animal_name = 'kf2'\n",
    "animal_nickname = 'KF2'\n",
    "data_path = '/data2/data1_backup/jason/'\n",
    "date = '20170120'\n",
    "reconfig = None\n",
    "\n",
    "expr_info = dict(\n",
    "    experimenter_name = 'Jason Chung',\n",
    "    experiment_description = '3 choice memory task'\n",
    ")"
   ]
  },
  {
   "cell_type": "markdown",
   "metadata": {},
   "source": [
    "again create a MetadataHelper object and collect information from the headers of the .rec files.\n",
    "\n",
    "when `.rec_header.xml` files are not already present the raw data folder\n",
    "(generated during `rec_to_nwb` preprocessing),\n",
    "this will make copies of these header files in a temporary directory. location of this tmp directory can be controlled using kwarg `copy_path`\n",
    "when constructing the NWBMetadataHelper object."
   ]
  },
  {
   "cell_type": "code",
   "execution_count": 7,
   "metadata": {},
   "outputs": [
    {
     "name": "stdout",
     "output_type": "stream",
     "text": [
      "extracting 2 rec header files into /home/jhbak/tmp/rec_header/...\n",
      "done.\n"
     ]
    }
   ],
   "source": [
    "helper = NWBMetadataHelper(data_path=data_path,\n",
    "                           animal_name=animal_name,\n",
    "                           animal_nickname=animal_nickname,\n",
    "                           date=date,\n",
    "                           reconfig=reconfig,\n",
    "                           **expr_info\n",
    "                          )"
   ]
  },
  {
   "cell_type": "code",
   "execution_count": 9,
   "metadata": {},
   "outputs": [
    {
     "name": "stdout",
     "output_type": "stream",
     "text": [
      " * WARNING: incomplete ntrode id 31\n",
      "Saved to file:\n",
      "yaml/KF2_20170120_metadata_draft.yml\n"
     ]
    }
   ],
   "source": [
    "helper.write_metadata_draft()"
   ]
  },
  {
   "cell_type": "code",
   "execution_count": null,
   "metadata": {},
   "outputs": [],
   "source": []
  }
 ],
 "metadata": {
  "kernelspec": {
   "display_name": "Python 3",
   "language": "python",
   "name": "python3"
  },
  "language_info": {
   "codemirror_mode": {
    "name": "ipython",
    "version": 3
   },
   "file_extension": ".py",
   "mimetype": "text/x-python",
   "name": "python",
   "nbconvert_exporter": "python",
   "pygments_lexer": "ipython3",
   "version": "3.6.12"
  }
 },
 "nbformat": 4,
 "nbformat_minor": 4
}
